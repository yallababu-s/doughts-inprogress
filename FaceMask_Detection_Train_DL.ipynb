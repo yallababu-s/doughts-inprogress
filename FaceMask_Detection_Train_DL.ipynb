{
 "cells": [
  {
   "cell_type": "code",
   "execution_count": 1,
   "id": "0da8cc84",
   "metadata": {},
   "outputs": [],
   "source": [
    "# USAGE\n",
    "# python train_mask_detector.py --dataset dataset\n",
    "\n",
    "# import the necessary packages\n",
    "from tensorflow.keras.preprocessing.image import ImageDataGenerator\n",
    "from tensorflow.keras.applications import MobileNetV2\n",
    "from tensorflow.keras.layers import AveragePooling2D\n",
    "from tensorflow.keras.layers import Dropout\n",
    "from tensorflow.keras.layers import Flatten\n",
    "from tensorflow.keras.layers import Dense\n",
    "from tensorflow.keras.layers import Input\n",
    "from tensorflow.keras.models import Model\n",
    "from tensorflow.keras.optimizers import Adam\n",
    "from tensorflow.keras.applications.mobilenet_v2 import preprocess_input\n",
    "from tensorflow.keras.preprocessing.image import img_to_array\n",
    "from tensorflow.keras.preprocessing.image import load_img\n",
    "from tensorflow.keras.utils import to_categorical\n",
    "from sklearn.preprocessing import LabelBinarizer\n",
    "from sklearn.model_selection import train_test_split\n",
    "from sklearn.metrics import classification_report\n",
    "from imutils import paths\n",
    "import matplotlib.pyplot as plt\n",
    "import numpy as np\n",
    "import argparse\n",
    "import os"
   ]
  },
  {
   "cell_type": "code",
   "execution_count": 2,
   "id": "a9993a12",
   "metadata": {},
   "outputs": [],
   "source": [
    "# initialize the initial learning rate, number of epochs to train for,\n",
    "# and batch size\n",
    "INIT_LR = 1e-4\n",
    "EPOCHS = 10\n",
    "BS = 32"
   ]
  },
  {
   "cell_type": "code",
   "execution_count": 3,
   "id": "5f35185e",
   "metadata": {},
   "outputs": [],
   "source": [
    "# r before string will prevent Python from interpreting escape characters.\n",
    "DIRECTORY = r\"D:\\HopeAI\\Week11-Deep Learning Module\\Facemask\\dataset\"\n",
    "CATEGORIES = [\"with_mask\", \"without_mask\"]"
   ]
  },
  {
   "cell_type": "code",
   "execution_count": 14,
   "id": "0bed3e01",
   "metadata": {},
   "outputs": [
    {
     "name": "stdout",
     "output_type": "stream",
     "text": [
      "[]\n"
     ]
    }
   ],
   "source": [
    "#from sklearn.preprocessing import LabelBinarizer\n",
    "# Initialize LabelBinarizer to encode the labels (if necessary)\n",
    "# convert the data and labels to NumPy arrays\n",
    "data = np.array(data, dtype=\"float32\")\n",
    "labels = np.array(labels)\n",
    "print(labels)"
   ]
  },
  {
   "cell_type": "code",
   "execution_count": 16,
   "id": "25f965dc",
   "metadata": {},
   "outputs": [
    {
     "name": "stdout",
     "output_type": "stream",
     "text": [
      "[INFO] loading images...\n"
     ]
    }
   ],
   "source": [
    "# grab the list of images in our dataset directory, then initialize\n",
    "# the list of data (i.e., images) and class images\n",
    "print(\"[INFO] loading images...\")\n",
    "\n",
    "data = []\n",
    "labels = []"
   ]
  },
  {
   "cell_type": "code",
   "execution_count": 9,
   "id": "128984c1",
   "metadata": {},
   "outputs": [
    {
     "name": "stdout",
     "output_type": "stream",
     "text": [
      "Found 3848 images.\n",
      "Example image paths:\n",
      "['D:\\\\HopeAI\\\\Week11-Deep Learning Module\\\\Facemask\\\\dataset\\\\without_mask\\\\0.jpg', 'D:\\\\HopeAI\\\\Week11-Deep Learning Module\\\\Facemask\\\\dataset\\\\without_mask\\\\0_0_aidai_0014.jpg', 'D:\\\\HopeAI\\\\Week11-Deep Learning Module\\\\Facemask\\\\dataset\\\\without_mask\\\\0_0_aidai_0029.jpg', 'D:\\\\HopeAI\\\\Week11-Deep Learning Module\\\\Facemask\\\\dataset\\\\without_mask\\\\0_0_aidai_0043.jpg', 'D:\\\\HopeAI\\\\Week11-Deep Learning Module\\\\Facemask\\\\dataset\\\\without_mask\\\\0_0_aidai_0074.jpg']\n"
     ]
    }
   ],
   "source": [
    "from imutils import paths\n",
    "\n",
    "# Define the path to your dataset\n",
    "dataset_path = r\"D:\\HopeAI\\Week11-Deep Learning Module\\Facemask\\dataset\"\n",
    "\n",
    "# List all image paths in the dataset\n",
    "imagePaths = list(paths.list_images(dataset_path))\n",
    "\n",
    "# Print the number of images found and a few example paths\n",
    "print(f\"Found {len(imagePaths)} images.\")\n",
    "print(\"Example image paths:\")\n",
    "print(imagePaths[:5])  # Print first 5 image paths"
   ]
  },
  {
   "cell_type": "code",
   "execution_count": 13,
   "id": "70a6ae09-3b7a-48e5-9d68-5433fc64c34f",
   "metadata": {},
   "outputs": [],
   "source": [
    "import warnings\n",
    "# Ignoring all warnings\n",
    "warnings.filterwarnings(\"ignore\")"
   ]
  },
  {
   "cell_type": "code",
   "execution_count": 17,
   "id": "8798951a",
   "metadata": {},
   "outputs": [
    {
     "name": "stdout",
     "output_type": "stream",
     "text": [
      "[[[[-0.94509804 -0.9764706  -0.85882354]\n",
      "   [-0.94509804 -0.9764706  -0.85882354]\n",
      "   [-0.94509804 -0.9764706  -0.85882354]\n",
      "   ...\n",
      "   [-0.8509804  -0.90588236 -0.78039217]\n",
      "   [-0.8509804  -0.90588236 -0.78039217]\n",
      "   [-0.84313726 -0.8980392  -0.77254903]]\n",
      "\n",
      "  [[-0.9137255  -0.94509804 -0.827451  ]\n",
      "   [-0.9137255  -0.94509804 -0.827451  ]\n",
      "   [-0.9137255  -0.94509804 -0.827451  ]\n",
      "   ...\n",
      "   [-0.7490196  -0.8039216  -0.6784314 ]\n",
      "   [-0.7490196  -0.8039216  -0.6784314 ]\n",
      "   [-0.7411765  -0.79607844 -0.67058825]]\n",
      "\n",
      "  [[-0.92156863 -0.9607843  -0.8039216 ]\n",
      "   [-0.92156863 -0.9529412  -0.81960785]\n",
      "   [-0.92156863 -0.9607843  -0.8039216 ]\n",
      "   ...\n",
      "   [-0.88235295 -0.8980392  -0.7882353 ]\n",
      "   [-0.85882354 -0.8901961  -0.77254903]\n",
      "   [-0.85882354 -0.8745098  -0.7647059 ]]\n",
      "\n",
      "  ...\n",
      "\n",
      "  [[ 0.38823533 -0.9607843  -0.36470586]\n",
      "   [ 0.38823533 -0.9607843  -0.3960784 ]\n",
      "   [ 0.37254906 -0.9529412  -0.44313723]\n",
      "   ...\n",
      "   [-1.         -1.         -1.        ]\n",
      "   [-1.         -1.         -1.        ]\n",
      "   [-1.         -1.         -1.        ]]\n",
      "\n",
      "  [[ 0.30196083 -0.9607843  -0.42745095]\n",
      "   [ 0.27058828 -0.9764706  -0.47450978]\n",
      "   [ 0.23921573 -0.9607843  -0.5137255 ]\n",
      "   ...\n",
      "   [-1.         -1.         -1.        ]\n",
      "   [-1.         -1.         -1.        ]\n",
      "   [-1.         -1.         -1.        ]]\n",
      "\n",
      "  [[ 0.27058828 -0.9529412  -0.44313723]\n",
      "   [ 0.2313726  -0.9764706  -0.49019605]\n",
      "   [ 0.21568632 -0.96862745 -0.5372549 ]\n",
      "   ...\n",
      "   [-1.         -1.         -1.        ]\n",
      "   [-1.         -1.         -1.        ]\n",
      "   [-1.         -1.         -1.        ]]]\n",
      "\n",
      "\n",
      " [[[ 0.7882353   0.654902    0.7176471 ]\n",
      "   [ 0.7882353   0.654902    0.7176471 ]\n",
      "   [ 0.6862745   0.5529412   0.6156863 ]\n",
      "   ...\n",
      "   [-0.34117645 -0.5058824  -0.654902  ]\n",
      "   [-0.27843136 -0.45098037 -0.6156863 ]\n",
      "   [-0.27843136 -0.45098037 -0.6156863 ]]\n",
      "\n",
      "  [[ 0.7882353   0.654902    0.7176471 ]\n",
      "   [ 0.7882353   0.654902    0.7176471 ]\n",
      "   [ 0.6862745   0.5529412   0.6156863 ]\n",
      "   ...\n",
      "   [-0.34117645 -0.5058824  -0.654902  ]\n",
      "   [-0.27843136 -0.45098037 -0.6156863 ]\n",
      "   [-0.27843136 -0.45098037 -0.6156863 ]]\n",
      "\n",
      "  [[ 0.73333335  0.6         0.6627451 ]\n",
      "   [ 0.73333335  0.6         0.6627451 ]\n",
      "   [ 0.58431375  0.45098042  0.5137255 ]\n",
      "   ...\n",
      "   [-0.4352941  -0.6        -0.7490196 ]\n",
      "   [-0.372549   -0.54509807 -0.70980394]\n",
      "   [-0.372549   -0.54509807 -0.70980394]]\n",
      "\n",
      "  ...\n",
      "\n",
      "  [[ 0.1686275  -0.31764704 -0.60784316]\n",
      "   [ 0.1686275  -0.31764704 -0.60784316]\n",
      "   [ 0.19215691 -0.29411763 -0.58431375]\n",
      "   ...\n",
      "   [ 0.28627455 -0.1372549  -0.40392154]\n",
      "   [ 0.2941177  -0.12941176 -0.3960784 ]\n",
      "   [ 0.2941177  -0.12941176 -0.3960784 ]]\n",
      "\n",
      "  [[ 0.1686275  -0.31764704 -0.60784316]\n",
      "   [ 0.1686275  -0.31764704 -0.60784316]\n",
      "   [ 0.20000005 -0.2862745  -0.5764706 ]\n",
      "   ...\n",
      "   [ 0.3411765  -0.08235294 -0.3490196 ]\n",
      "   [ 0.33333337 -0.09019607 -0.35686272]\n",
      "   [ 0.33333337 -0.09019607 -0.35686272]]\n",
      "\n",
      "  [[ 0.1686275  -0.31764704 -0.60784316]\n",
      "   [ 0.1686275  -0.31764704 -0.60784316]\n",
      "   [ 0.20000005 -0.2862745  -0.5764706 ]\n",
      "   ...\n",
      "   [ 0.3411765  -0.08235294 -0.3490196 ]\n",
      "   [ 0.33333337 -0.09019607 -0.35686272]\n",
      "   [ 0.33333337 -0.09019607 -0.35686272]]]\n",
      "\n",
      "\n",
      " [[[-0.75686276 -0.8980392  -0.99215686]\n",
      "   [-0.7176471  -0.85882354 -0.9529412 ]\n",
      "   [-0.7176471  -0.85882354 -0.9529412 ]\n",
      "   ...\n",
      "   [-0.77254903 -0.7647059  -0.73333335]\n",
      "   [-0.77254903 -0.7647059  -0.73333335]\n",
      "   [-0.77254903 -0.7647059  -0.73333335]]\n",
      "\n",
      "  [[-0.75686276 -0.8980392  -0.99215686]\n",
      "   [-0.7176471  -0.85882354 -0.9529412 ]\n",
      "   [-0.7176471  -0.85882354 -0.9529412 ]\n",
      "   ...\n",
      "   [-0.77254903 -0.7647059  -0.73333335]\n",
      "   [-0.77254903 -0.7647059  -0.73333335]\n",
      "   [-0.77254903 -0.7647059  -0.73333335]]\n",
      "\n",
      "  [[-0.7490196  -0.8901961  -0.9843137 ]\n",
      "   [-0.7176471  -0.85882354 -0.9529412 ]\n",
      "   [-0.7176471  -0.85882354 -0.9529412 ]\n",
      "   ...\n",
      "   [-0.7647059  -0.75686276 -0.7254902 ]\n",
      "   [-0.7647059  -0.75686276 -0.7254902 ]\n",
      "   [-0.77254903 -0.7647059  -0.73333335]]\n",
      "\n",
      "  ...\n",
      "\n",
      "  [[ 0.6392157   0.33333337  0.09019613]\n",
      "   [ 0.6156863   0.30980396  0.06666672]\n",
      "   [ 0.6156863   0.30980396  0.06666672]\n",
      "   ...\n",
      "   [ 0.75686276  0.8901961   0.7411765 ]\n",
      "   [ 0.75686276  0.8901961   0.7411765 ]\n",
      "   [ 0.7490196   0.88235295  0.73333335]]\n",
      "\n",
      "  [[ 0.67058825  0.34901965  0.12941182]\n",
      "   [ 0.64705884  0.32549024  0.10588241]\n",
      "   [ 0.64705884  0.32549024  0.10588241]\n",
      "   ...\n",
      "   [ 0.7490196   0.8901961   0.7176471 ]\n",
      "   [ 0.7490196   0.8901961   0.7176471 ]\n",
      "   [ 0.77254903  0.9137255   0.7411765 ]]\n",
      "\n",
      "  [[ 0.67058825  0.34901965  0.12941182]\n",
      "   [ 0.64705884  0.32549024  0.10588241]\n",
      "   [ 0.64705884  0.32549024  0.10588241]\n",
      "   ...\n",
      "   [ 0.7490196   0.8901961   0.7176471 ]\n",
      "   [ 0.7490196   0.8901961   0.7176471 ]\n",
      "   [ 0.77254903  0.9137255   0.7411765 ]]]\n",
      "\n",
      "\n",
      " ...\n",
      "\n",
      "\n",
      " [[[-0.4588235   0.3803922  -0.15294117]\n",
      "   [-0.4588235   0.3803922  -0.15294117]\n",
      "   [-0.54509807  0.20784318 -0.2862745 ]\n",
      "   ...\n",
      "   [-0.54509807 -0.4588235  -0.5686275 ]\n",
      "   [-0.47450978 -0.38823527 -0.4980392 ]\n",
      "   [-0.47450978 -0.38823527 -0.4980392 ]]\n",
      "\n",
      "  [[-0.4588235   0.3803922  -0.15294117]\n",
      "   [-0.4588235   0.3803922  -0.15294117]\n",
      "   [-0.54509807  0.20784318 -0.2862745 ]\n",
      "   ...\n",
      "   [-0.54509807 -0.4588235  -0.5686275 ]\n",
      "   [-0.47450978 -0.38823527 -0.4980392 ]\n",
      "   [-0.47450978 -0.38823527 -0.4980392 ]]\n",
      "\n",
      "  [[-0.4823529   0.27058828 -0.23137254]\n",
      "   [-0.4823529   0.27058828 -0.23137254]\n",
      "   [-0.6156863   0.05098045 -0.41176468]\n",
      "   ...\n",
      "   [-0.32549018 -0.26274508 -0.3490196 ]\n",
      "   [-0.17647058 -0.09803921 -0.18431371]\n",
      "   [-0.17647058 -0.09803921 -0.18431371]]\n",
      "\n",
      "  ...\n",
      "\n",
      "  [[ 0.0196079  -0.11372548 -0.17647058]\n",
      "   [ 0.0196079  -0.11372548 -0.17647058]\n",
      "   [ 0.17647064  0.07450986  0.00392163]\n",
      "   ...\n",
      "   [-0.7490196  -0.6313726  -0.45098037]\n",
      "   [-0.7254902  -0.60784316 -0.42745095]\n",
      "   [-0.7254902  -0.60784316 -0.42745095]]\n",
      "\n",
      "  [[-0.17647058 -0.29411763 -0.3490196 ]\n",
      "   [-0.17647058 -0.29411763 -0.3490196 ]\n",
      "   [ 0.32549024  0.22352946  0.16078436]\n",
      "   ...\n",
      "   [-0.7490196  -0.62352943 -0.44313723]\n",
      "   [-0.7647059  -0.6392157  -0.4588235 ]\n",
      "   [-0.7647059  -0.6392157  -0.4588235 ]]\n",
      "\n",
      "  [[-0.17647058 -0.29411763 -0.3490196 ]\n",
      "   [-0.17647058 -0.29411763 -0.3490196 ]\n",
      "   [ 0.32549024  0.22352946  0.16078436]\n",
      "   ...\n",
      "   [-0.7490196  -0.62352943 -0.44313723]\n",
      "   [-0.7647059  -0.6392157  -0.4588235 ]\n",
      "   [-0.7647059  -0.6392157  -0.4588235 ]]]\n",
      "\n",
      "\n",
      " [[[-0.6313726  -0.6313726  -0.64705884]\n",
      "   [-0.6313726  -0.6313726  -0.64705884]\n",
      "   [-0.6313726  -0.6313726  -0.64705884]\n",
      "   ...\n",
      "   [-0.4352941  -0.5372549  -0.58431375]\n",
      "   [-0.4352941  -0.5372549  -0.58431375]\n",
      "   [-0.4352941  -0.5372549  -0.58431375]]\n",
      "\n",
      "  [[-0.6313726  -0.6313726  -0.64705884]\n",
      "   [-0.6313726  -0.6313726  -0.64705884]\n",
      "   [-0.6313726  -0.6313726  -0.64705884]\n",
      "   ...\n",
      "   [-0.4352941  -0.5372549  -0.58431375]\n",
      "   [-0.4352941  -0.5372549  -0.58431375]\n",
      "   [-0.4352941  -0.5372549  -0.58431375]]\n",
      "\n",
      "  [[-0.6313726  -0.6313726  -0.64705884]\n",
      "   [-0.6313726  -0.6313726  -0.64705884]\n",
      "   [-0.6313726  -0.6313726  -0.64705884]\n",
      "   ...\n",
      "   [-0.4352941  -0.5372549  -0.58431375]\n",
      "   [-0.4352941  -0.5372549  -0.58431375]\n",
      "   [-0.4352941  -0.5372549  -0.58431375]]\n",
      "\n",
      "  ...\n",
      "\n",
      "  [[-0.6627451  -0.62352943 -0.5921569 ]\n",
      "   [-0.6627451  -0.62352943 -0.5921569 ]\n",
      "   [-0.6627451  -0.62352943 -0.5921569 ]\n",
      "   ...\n",
      "   [-0.58431375 -0.60784316 -0.52156866]\n",
      "   [-0.58431375 -0.60784316 -0.52156866]\n",
      "   [-0.58431375 -0.60784316 -0.52156866]]\n",
      "\n",
      "  [[-0.6627451  -0.62352943 -0.5921569 ]\n",
      "   [-0.6627451  -0.62352943 -0.5921569 ]\n",
      "   [-0.6627451  -0.62352943 -0.5921569 ]\n",
      "   ...\n",
      "   [-0.58431375 -0.60784316 -0.52156866]\n",
      "   [-0.58431375 -0.60784316 -0.52156866]\n",
      "   [-0.58431375 -0.60784316 -0.52156866]]\n",
      "\n",
      "  [[-0.6627451  -0.62352943 -0.5921569 ]\n",
      "   [-0.6627451  -0.62352943 -0.5921569 ]\n",
      "   [-0.6627451  -0.62352943 -0.5921569 ]\n",
      "   ...\n",
      "   [-0.58431375 -0.60784316 -0.52156866]\n",
      "   [-0.58431375 -0.60784316 -0.52156866]\n",
      "   [-0.58431375 -0.60784316 -0.52156866]]]\n",
      "\n",
      "\n",
      " [[[-0.8901961  -0.90588236 -0.8352941 ]\n",
      "   [-0.88235295 -0.90588236 -0.8352941 ]\n",
      "   [-0.8745098  -0.8980392  -0.827451  ]\n",
      "   ...\n",
      "   [ 0.77254903  0.75686276  0.77254903]\n",
      "   [ 0.7411765   0.7176471   0.7411765 ]\n",
      "   [ 0.58431375  0.56078434  0.58431375]]\n",
      "\n",
      "  [[-0.8901961  -0.8980392  -0.827451  ]\n",
      "   [-0.8745098  -0.8980392  -0.827451  ]\n",
      "   [-0.88235295 -0.90588236 -0.8352941 ]\n",
      "   ...\n",
      "   [-0.19215685 -0.21568626 -0.19215685]\n",
      "   [ 0.26274514  0.23921573  0.26274514]\n",
      "   [ 0.5294118   0.5137255   0.5294118 ]]\n",
      "\n",
      "  [[-0.8901961  -0.90588236 -0.8352941 ]\n",
      "   [-0.88235295 -0.90588236 -0.8352941 ]\n",
      "   [-0.88235295 -0.9137255  -0.8352941 ]\n",
      "   ...\n",
      "   [-0.41960782 -0.4352941  -0.41176468]\n",
      "   [-0.1607843  -0.17647058 -0.1607843 ]\n",
      "   [ 0.19215691  0.17647064  0.19215691]]\n",
      "\n",
      "  ...\n",
      "\n",
      "  [[-0.90588236 -0.92156863 -0.8039216 ]\n",
      "   [-0.90588236 -0.92156863 -0.8117647 ]\n",
      "   [-0.90588236 -0.92156863 -0.8117647 ]\n",
      "   ...\n",
      "   [-0.8745098  -0.90588236 -0.8039216 ]\n",
      "   [-0.8745098  -0.90588236 -0.79607844]\n",
      "   [-0.8745098  -0.90588236 -0.78039217]]\n",
      "\n",
      "  [[-0.90588236 -0.92156863 -0.8117647 ]\n",
      "   [-0.90588236 -0.92156863 -0.8117647 ]\n",
      "   [-0.90588236 -0.92156863 -0.8117647 ]\n",
      "   ...\n",
      "   [-0.8666667  -0.8980392  -0.79607844]\n",
      "   [-0.8745098  -0.90588236 -0.79607844]\n",
      "   [-0.8745098  -0.90588236 -0.78039217]]\n",
      "\n",
      "  [[-0.90588236 -0.92156863 -0.81960785]\n",
      "   [-0.90588236 -0.9137255  -0.827451  ]\n",
      "   [-0.90588236 -0.92156863 -0.81960785]\n",
      "   ...\n",
      "   [-0.8745098  -0.90588236 -0.79607844]\n",
      "   [-0.8745098  -0.90588236 -0.79607844]\n",
      "   [-0.8745098  -0.90588236 -0.78039217]]]]\n",
      "['without_mask' 'without_mask' 'without_mask' ... 'with_mask'\n",
      " '.ipynb_checkpoints' '.ipynb_checkpoints']\n"
     ]
    }
   ],
   "source": [
    "# Loop over the image paths\n",
    "for imagePath in imagePaths:\n",
    "    # Extract the class label from the filename\n",
    "    label = imagePath.split(os.path.sep)[-2]\n",
    "\n",
    "    # Load the input image (224x224) and preprocess it\n",
    "    image = load_img(imagePath, target_size=(224, 224))\n",
    "    image = img_to_array(image)\n",
    "    image = preprocess_input(image)\n",
    "\n",
    "    # Update the data and labels lists, respectively\n",
    "    data.append(image)\n",
    "    labels.append(label)\n",
    "\n",
    "# Convert the data and labels to NumPy arrays\n",
    "data = np.array(data, dtype=\"float32\")\n",
    "labels = np.array(labels)\n",
    "\n",
    "print(data)\n",
    "print(labels)"
   ]
  },
  {
   "cell_type": "code",
   "execution_count": 18,
   "id": "e90a0538",
   "metadata": {},
   "outputs": [],
   "source": [
    "# partition the data into training and testing splits using 75% of\n",
    "# the data for training and the remaining 20% for testing\n",
    "trainX, testX, trainY, testY = train_test_split(data, labels, test_size=0.20, stratify=labels, random_state=42)"
   ]
  },
  {
   "cell_type": "code",
   "execution_count": 19,
   "id": "b2575c3b",
   "metadata": {},
   "outputs": [],
   "source": [
    "# Construct the training image generator for data augmentation\n",
    "aug = ImageDataGenerator(\n",
    "    rotation_range=20,\n",
    "    zoom_range=0.15,\n",
    "    width_shift_range=0.2,\n",
    "    height_shift_range=0.2,\n",
    "    shear_range=0.15,\n",
    "    horizontal_flip=True,\n",
    "    fill_mode=\"nearest\")"
   ]
  },
  {
   "cell_type": "code",
   "execution_count": 20,
   "id": "a936e452",
   "metadata": {},
   "outputs": [],
   "source": [
    "# Construct the validation image generator\n",
    "val_aug = ImageDataGenerator()"
   ]
  },
  {
   "cell_type": "code",
   "execution_count": 21,
   "id": "114cd125",
   "metadata": {},
   "outputs": [],
   "source": [
    "# Create data generators\n",
    "train_generator = aug.flow(trainX, trainY, batch_size=BS)\n",
    "val_generator = val_aug.flow(testX, testY, batch_size=BS)"
   ]
  },
  {
   "cell_type": "code",
   "execution_count": 22,
   "id": "f011ee38",
   "metadata": {},
   "outputs": [
    {
     "data": {
      "text/plain": [
       "<keras.preprocessing.image.NumpyArrayIterator at 0x18d7a8bec20>"
      ]
     },
     "execution_count": 22,
     "metadata": {},
     "output_type": "execute_result"
    }
   ],
   "source": [
    "train_generator "
   ]
  },
  {
   "cell_type": "code",
   "execution_count": 23,
   "id": "43d15c29",
   "metadata": {},
   "outputs": [
    {
     "name": "stdout",
     "output_type": "stream",
     "text": [
      "WARNING:tensorflow:`input_shape` is undefined or non-square, or `rows` is not in [96, 128, 160, 192, 224]. Weights for input shape (224, 224) will be loaded as the default.\n"
     ]
    }
   ],
   "source": [
    "# load the MobileNetV2 network, ensuring the head FC layer sets are\n",
    "# left off\n",
    "baseModel = MobileNetV2(weights=\"imagenet\", include_top=False,\n",
    "\tinput_tensor=Input(shape=(224, 224, 3)))"
   ]
  },
  {
   "cell_type": "code",
   "execution_count": 24,
   "id": "b5a74412",
   "metadata": {},
   "outputs": [],
   "source": [
    "# construct the head of the model that will be placed on top of the\n",
    "# the base model\n",
    "headModel = baseModel.output\n",
    "headModel = AveragePooling2D(pool_size=(7, 7))(headModel)\n",
    "headModel = Flatten(name=\"flatten\")(headModel)\n",
    "headModel = Dense(128, activation=\"relu\")(headModel)\n",
    "headModel = Dropout(0.5)(headModel)\n",
    "headModel = Dense(2, activation=\"softmax\")(headModel)"
   ]
  },
  {
   "cell_type": "code",
   "execution_count": 25,
   "id": "37e230ff",
   "metadata": {},
   "outputs": [],
   "source": [
    "# place the head FC model on top of the base model (this will become\n",
    "# the actual model we will train)\n",
    "model = Model(inputs=baseModel.input, outputs=headModel)"
   ]
  },
  {
   "cell_type": "code",
   "execution_count": 26,
   "id": "08536aca",
   "metadata": {},
   "outputs": [],
   "source": [
    "# loop over all layers in the base model and freeze them so they will\n",
    "# *not* be updated during the first training process\n",
    "for layer in baseModel.layers:\n",
    "\tlayer.trainable = False"
   ]
  },
  {
   "cell_type": "markdown",
   "id": "8d9d64e2-1802-4df6-b4e8-f1c86d8e42c7",
   "metadata": {},
   "source": [
    "# compile our model\n",
    "print(\"[INFO] compiling model...\")\n",
    "opt = Adam(learning_rate=INIT_LR)\n",
    "model.compile(loss=\"binary_crossentropy\", optimizer=opt, metrics=[\"accuracy\"])"
   ]
  },
  {
   "cell_type": "code",
   "execution_count": 53,
   "id": "b47bfba4-bf6f-4295-a728-daf6e9fe9c41",
   "metadata": {},
   "outputs": [],
   "source": [
    "# Compile the model with binary_crossentropy loss \n",
    "INIT_LR = 0.001 # Replace with your initial learning rate \n",
    "BS = 16 # Batch size \n",
    "EPOCHS = 10 # Number of epochs \n",
    "opt = Adam(learning_rate=INIT_LR) \n",
    "model.compile(loss=\"binary_crossentropy\", optimizer=opt, metrics=[\"accuracy\"])"
   ]
  },
  {
   "cell_type": "code",
   "execution_count": null,
   "id": "773c40c3-5880-4c14-be12-a13cb88c2e94",
   "metadata": {},
   "outputs": [],
   "source": [
    "  #ValueError: `logits` and `labels` must have the same shape, received ((None, 2) vs (None, 1)).--fit function"
   ]
  },
  {
   "cell_type": "code",
   "execution_count": null,
   "id": "c404611f-69e5-4f60-916c-21525eabf9ef",
   "metadata": {},
   "outputs": [],
   "source": [
    "# Compile the model model.compile(optimizer='adam', loss='sparse_categorical_crossentropy')"
   ]
  },
  {
   "cell_type": "code",
   "execution_count": 48,
   "id": "7431640b-9eb2-4cc8-bab6-d30e5af47d59",
   "metadata": {},
   "outputs": [
    {
     "name": "stdout",
     "output_type": "stream",
     "text": [
      "[INFO] training head...\n"
     ]
    }
   ],
   "source": [
    "print(\"[INFO] training head...\")"
   ]
  },
  {
   "cell_type": "code",
   "execution_count": 62,
   "id": "eb1623f0-529d-4722-b126-246b5d6fe0ae",
   "metadata": {},
   "outputs": [
    {
     "data": {
      "text/plain": [
       "3078"
      ]
     },
     "execution_count": 62,
     "metadata": {},
     "output_type": "execute_result"
    }
   ],
   "source": [
    "len(trainX) "
   ]
  },
  {
   "cell_type": "code",
   "execution_count": 63,
   "id": "3947d26c-41e2-4f2a-b015-0e3e27736195",
   "metadata": {},
   "outputs": [
    {
     "data": {
      "text/plain": [
       "770"
      ]
     },
     "execution_count": 63,
     "metadata": {},
     "output_type": "execute_result"
    }
   ],
   "source": [
    "len(testX)"
   ]
  },
  {
   "cell_type": "code",
   "execution_count": 60,
   "id": "a3b6bab5-7d42-49e4-961f-928daa880b48",
   "metadata": {},
   "outputs": [
    {
     "data": {
      "text/plain": [
       "(3848,)"
      ]
     },
     "execution_count": 60,
     "metadata": {},
     "output_type": "execute_result"
    }
   ],
   "source": [
    "labels.shape"
   ]
  },
  {
   "cell_type": "code",
   "execution_count": 66,
   "id": "bae87fef-7783-468f-a3bc-8204734c1042",
   "metadata": {},
   "outputs": [
    {
     "name": "stdout",
     "output_type": "stream",
     "text": [
      "Epoch 1/10\n"
     ]
    },
    {
     "ename": "ValueError",
     "evalue": "in user code:\n\n    File \"C:\\Users\\hp\\anaconda3\\envs\\vetensor\\lib\\site-packages\\keras\\engine\\training.py\", line 1160, in train_function  *\n        return step_function(self, iterator)\n    File \"C:\\Users\\hp\\anaconda3\\envs\\vetensor\\lib\\site-packages\\keras\\engine\\training.py\", line 1146, in step_function  **\n        outputs = model.distribute_strategy.run(run_step, args=(data,))\n    File \"C:\\Users\\hp\\anaconda3\\envs\\vetensor\\lib\\site-packages\\keras\\engine\\training.py\", line 1135, in run_step  **\n        outputs = model.train_step(data)\n    File \"C:\\Users\\hp\\anaconda3\\envs\\vetensor\\lib\\site-packages\\keras\\engine\\training.py\", line 994, in train_step\n        loss = self.compute_loss(x, y, y_pred, sample_weight)\n    File \"C:\\Users\\hp\\anaconda3\\envs\\vetensor\\lib\\site-packages\\keras\\engine\\training.py\", line 1052, in compute_loss\n        return self.compiled_loss(\n    File \"C:\\Users\\hp\\anaconda3\\envs\\vetensor\\lib\\site-packages\\keras\\engine\\compile_utils.py\", line 265, in __call__\n        loss_value = loss_obj(y_t, y_p, sample_weight=sw)\n    File \"C:\\Users\\hp\\anaconda3\\envs\\vetensor\\lib\\site-packages\\keras\\losses.py\", line 152, in __call__\n        losses = call_fn(y_true, y_pred)\n    File \"C:\\Users\\hp\\anaconda3\\envs\\vetensor\\lib\\site-packages\\keras\\losses.py\", line 272, in call  **\n        return ag_fn(y_true, y_pred, **self._fn_kwargs)\n    File \"C:\\Users\\hp\\anaconda3\\envs\\vetensor\\lib\\site-packages\\keras\\losses.py\", line 2162, in binary_crossentropy\n        backend.binary_crossentropy(y_true, y_pred, from_logits=from_logits),\n    File \"C:\\Users\\hp\\anaconda3\\envs\\vetensor\\lib\\site-packages\\keras\\backend.py\", line 5677, in binary_crossentropy\n        return tf.nn.sigmoid_cross_entropy_with_logits(\n\n    ValueError: `logits` and `labels` must have the same shape, received ((None, 2) vs (None, 1)).\n",
     "output_type": "error",
     "traceback": [
      "\u001b[1;31m---------------------------------------------------------------------------\u001b[0m",
      "\u001b[1;31mValueError\u001b[0m                                Traceback (most recent call last)",
      "Cell \u001b[1;32mIn[66], line 2\u001b[0m\n\u001b[0;32m      1\u001b[0m \u001b[38;5;66;03m# Train the head of the network\u001b[39;00m\n\u001b[1;32m----> 2\u001b[0m H \u001b[38;5;241m=\u001b[39m \u001b[43mmodel\u001b[49m\u001b[38;5;241;43m.\u001b[39;49m\u001b[43mfit\u001b[49m\u001b[43m(\u001b[49m\n\u001b[0;32m      3\u001b[0m \u001b[43m    \u001b[49m\u001b[43mtrain_generator\u001b[49m\u001b[43m,\u001b[49m\n\u001b[0;32m      4\u001b[0m \u001b[43m    \u001b[49m\u001b[43msteps_per_epoch\u001b[49m\u001b[38;5;241;43m=\u001b[39;49m\u001b[38;5;28;43mlen\u001b[39;49m\u001b[43m(\u001b[49m\u001b[43mtrainX\u001b[49m\u001b[43m)\u001b[49m\u001b[43m \u001b[49m\u001b[38;5;241;43m/\u001b[39;49m\u001b[38;5;241;43m/\u001b[39;49m\u001b[43m \u001b[49m\u001b[43mBS\u001b[49m\u001b[43m,\u001b[49m\n\u001b[0;32m      5\u001b[0m \u001b[43m    \u001b[49m\u001b[43mvalidation_data\u001b[49m\u001b[38;5;241;43m=\u001b[39;49m\u001b[43mval_generator\u001b[49m\u001b[43m,\u001b[49m\n\u001b[0;32m      6\u001b[0m \u001b[43m    \u001b[49m\u001b[43mvalidation_steps\u001b[49m\u001b[38;5;241;43m=\u001b[39;49m\u001b[38;5;28;43mlen\u001b[39;49m\u001b[43m(\u001b[49m\u001b[43mtestX\u001b[49m\u001b[43m)\u001b[49m\u001b[43m \u001b[49m\u001b[38;5;241;43m/\u001b[39;49m\u001b[38;5;241;43m/\u001b[39;49m\u001b[43m \u001b[49m\u001b[43mBS\u001b[49m\u001b[43m,\u001b[49m\u001b[43m  \u001b[49m\u001b[38;5;66;43;03m# Using testX here\u001b[39;49;00m\n\u001b[0;32m      7\u001b[0m \u001b[43m    \u001b[49m\u001b[43mepochs\u001b[49m\u001b[38;5;241;43m=\u001b[39;49m\u001b[43mEPOCHS\u001b[49m\n\u001b[0;32m      8\u001b[0m \u001b[43m)\u001b[49m\n",
      "File \u001b[1;32m~\\anaconda3\\envs\\vetensor\\lib\\site-packages\\keras\\utils\\traceback_utils.py:70\u001b[0m, in \u001b[0;36mfilter_traceback.<locals>.error_handler\u001b[1;34m(*args, **kwargs)\u001b[0m\n\u001b[0;32m     67\u001b[0m     filtered_tb \u001b[38;5;241m=\u001b[39m _process_traceback_frames(e\u001b[38;5;241m.\u001b[39m__traceback__)\n\u001b[0;32m     68\u001b[0m     \u001b[38;5;66;03m# To get the full stack trace, call:\u001b[39;00m\n\u001b[0;32m     69\u001b[0m     \u001b[38;5;66;03m# `tf.debugging.disable_traceback_filtering()`\u001b[39;00m\n\u001b[1;32m---> 70\u001b[0m     \u001b[38;5;28;01mraise\u001b[39;00m e\u001b[38;5;241m.\u001b[39mwith_traceback(filtered_tb) \u001b[38;5;28;01mfrom\u001b[39;00m \u001b[38;5;28;01mNone\u001b[39;00m\n\u001b[0;32m     71\u001b[0m \u001b[38;5;28;01mfinally\u001b[39;00m:\n\u001b[0;32m     72\u001b[0m     \u001b[38;5;28;01mdel\u001b[39;00m filtered_tb\n",
      "File \u001b[1;32m~\\AppData\\Local\\Temp\\__autograph_generated_filex6hbfcql.py:15\u001b[0m, in \u001b[0;36mouter_factory.<locals>.inner_factory.<locals>.tf__train_function\u001b[1;34m(iterator)\u001b[0m\n\u001b[0;32m     13\u001b[0m \u001b[38;5;28;01mtry\u001b[39;00m:\n\u001b[0;32m     14\u001b[0m     do_return \u001b[38;5;241m=\u001b[39m \u001b[38;5;28;01mTrue\u001b[39;00m\n\u001b[1;32m---> 15\u001b[0m     retval_ \u001b[38;5;241m=\u001b[39m ag__\u001b[38;5;241m.\u001b[39mconverted_call(ag__\u001b[38;5;241m.\u001b[39mld(step_function), (ag__\u001b[38;5;241m.\u001b[39mld(\u001b[38;5;28mself\u001b[39m), ag__\u001b[38;5;241m.\u001b[39mld(iterator)), \u001b[38;5;28;01mNone\u001b[39;00m, fscope)\n\u001b[0;32m     16\u001b[0m \u001b[38;5;28;01mexcept\u001b[39;00m:\n\u001b[0;32m     17\u001b[0m     do_return \u001b[38;5;241m=\u001b[39m \u001b[38;5;28;01mFalse\u001b[39;00m\n",
      "\u001b[1;31mValueError\u001b[0m: in user code:\n\n    File \"C:\\Users\\hp\\anaconda3\\envs\\vetensor\\lib\\site-packages\\keras\\engine\\training.py\", line 1160, in train_function  *\n        return step_function(self, iterator)\n    File \"C:\\Users\\hp\\anaconda3\\envs\\vetensor\\lib\\site-packages\\keras\\engine\\training.py\", line 1146, in step_function  **\n        outputs = model.distribute_strategy.run(run_step, args=(data,))\n    File \"C:\\Users\\hp\\anaconda3\\envs\\vetensor\\lib\\site-packages\\keras\\engine\\training.py\", line 1135, in run_step  **\n        outputs = model.train_step(data)\n    File \"C:\\Users\\hp\\anaconda3\\envs\\vetensor\\lib\\site-packages\\keras\\engine\\training.py\", line 994, in train_step\n        loss = self.compute_loss(x, y, y_pred, sample_weight)\n    File \"C:\\Users\\hp\\anaconda3\\envs\\vetensor\\lib\\site-packages\\keras\\engine\\training.py\", line 1052, in compute_loss\n        return self.compiled_loss(\n    File \"C:\\Users\\hp\\anaconda3\\envs\\vetensor\\lib\\site-packages\\keras\\engine\\compile_utils.py\", line 265, in __call__\n        loss_value = loss_obj(y_t, y_p, sample_weight=sw)\n    File \"C:\\Users\\hp\\anaconda3\\envs\\vetensor\\lib\\site-packages\\keras\\losses.py\", line 152, in __call__\n        losses = call_fn(y_true, y_pred)\n    File \"C:\\Users\\hp\\anaconda3\\envs\\vetensor\\lib\\site-packages\\keras\\losses.py\", line 272, in call  **\n        return ag_fn(y_true, y_pred, **self._fn_kwargs)\n    File \"C:\\Users\\hp\\anaconda3\\envs\\vetensor\\lib\\site-packages\\keras\\losses.py\", line 2162, in binary_crossentropy\n        backend.binary_crossentropy(y_true, y_pred, from_logits=from_logits),\n    File \"C:\\Users\\hp\\anaconda3\\envs\\vetensor\\lib\\site-packages\\keras\\backend.py\", line 5677, in binary_crossentropy\n        return tf.nn.sigmoid_cross_entropy_with_logits(\n\n    ValueError: `logits` and `labels` must have the same shape, received ((None, 2) vs (None, 1)).\n"
     ]
    }
   ],
   "source": [
    "# Train the head of the network\n",
    "H = model.fit(\n",
    "    train_generator,\n",
    "    steps_per_epoch=len(trainX) // BS,\n",
    "    validation_data=val_generator,\n",
    "    validation_steps=len(testX) // BS,  # Using testX here\n",
    "    epochs=EPOCHS\n",
    ")\n"
   ]
  },
  {
   "cell_type": "code",
   "execution_count": null,
   "id": "c00c43c9",
   "metadata": {},
   "outputs": [
    {
     "name": "stdout",
     "output_type": "stream",
     "text": [
      "[INFO] evaluating network...\n",
      "32/49 [==================>...........] - ETA: 10s"
     ]
    }
   ],
   "source": [
    "# make predictions on the testing set\n",
    "print(\"[INFO] evaluating network...\")\n",
    "predIdxs = model.predict(testX, batch_size=BS)"
   ]
  },
  {
   "cell_type": "code",
   "execution_count": null,
   "id": "29726db1",
   "metadata": {},
   "outputs": [],
   "source": [
    "# for each image in the testing set we need to find the index of the\n",
    "# label with corresponding largest predicted probability\n",
    "predIdxs = np.argmax(predIdxs, axis=1)"
   ]
  },
  {
   "cell_type": "code",
   "execution_count": null,
   "id": "f24d5edf",
   "metadata": {},
   "outputs": [],
   "source": [
    "# show a nicely formatted classification report\n",
    "print(classification_report(testY.argmax(axis=1), predIdxs,\n",
    "\ttarget_names=lb.classes_))"
   ]
  },
  {
   "cell_type": "code",
   "execution_count": null,
   "id": "bbacbd78",
   "metadata": {},
   "outputs": [],
   "source": [
    "# serialize the model to disk\n",
    "print(\"[INFO] saving mask detector model...\")\n",
    "model.save(\"Face_Mask_Detector.h5\")"
   ]
  },
  {
   "cell_type": "code",
   "execution_count": null,
   "id": "d15d78f1",
   "metadata": {},
   "outputs": [],
   "source": [
    "# plot the training loss and accuracy\n",
    "N = EPOCHS\n",
    "plt.style.use(\"ggplot\")\n",
    "plt.figure()\n",
    "plt.plot(np.arange(0, N), H.history[\"loss\"], label=\"train_loss\")\n",
    "plt.plot(np.arange(0, N), H.history[\"val_loss\"], label=\"val_loss\")\n",
    "plt.plot(np.arange(0, N), H.history[\"accuracy\"], label=\"train_acc\")\n",
    "plt.plot(np.arange(0, N), H.history[\"val_accuracy\"], label=\"val_acc\")\n",
    "plt.title(\"Training Loss and Accuracy\")\n",
    "plt.xlabel(\"Epoch #\")\n",
    "plt.ylabel(\"Loss/Accuracy\")\n",
    "plt.legend(loc=\"lower left\")\n",
    "plt.savefig(\"plot.png\")"
   ]
  },
  {
   "cell_type": "code",
   "execution_count": null,
   "id": "9fce0694",
   "metadata": {},
   "outputs": [],
   "source": []
  },
  {
   "cell_type": "code",
   "execution_count": null,
   "id": "e30da70e",
   "metadata": {},
   "outputs": [],
   "source": []
  },
  {
   "cell_type": "code",
   "execution_count": null,
   "id": "94ce53c8",
   "metadata": {},
   "outputs": [],
   "source": []
  }
 ],
 "metadata": {
  "kernelspec": {
   "display_name": "Python 3 (ipykernel)",
   "language": "python",
   "name": "python3"
  },
  "language_info": {
   "codemirror_mode": {
    "name": "ipython",
    "version": 3
   },
   "file_extension": ".py",
   "mimetype": "text/x-python",
   "name": "python",
   "nbconvert_exporter": "python",
   "pygments_lexer": "ipython3",
   "version": "3.10.16"
  }
 },
 "nbformat": 4,
 "nbformat_minor": 5
}
