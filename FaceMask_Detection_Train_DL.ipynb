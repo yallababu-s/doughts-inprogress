{
 "cells": [
  {
   "cell_type": "markdown",
   "id": "4afdcb17-c6f3-4636-a7e6-eb1d1f11c924",
   "metadata": {},
   "source": [
    "#conda list"
   ]
  },
  {
   "cell_type": "markdown",
   "id": "e8deab76-ffc0-4e77-9403-99045275f51a",
   "metadata": {},
   "source": [
    "!pip install scikit-learn\n"
   ]
  },
  {
   "cell_type": "markdown",
   "id": "69460668-1ace-4cda-a5f9-82135dedb132",
   "metadata": {},
   "source": [
    "!pip install imutils"
   ]
  },
  {
   "cell_type": "code",
   "execution_count": 6,
   "id": "0da8cc84",
   "metadata": {},
   "outputs": [],
   "source": [
    "# USAGE\n",
    "# python train_mask_detector.py --dataset dataset\n",
    "\n",
    "# import the necessary packages\n",
    "from tensorflow.keras.preprocessing.image import ImageDataGenerator\n",
    "from tensorflow.keras.applications import MobileNetV2\n",
    "from tensorflow.keras.layers import AveragePooling2D\n",
    "from tensorflow.keras.layers import Dropout\n",
    "from tensorflow.keras.layers import Flatten\n",
    "from tensorflow.keras.layers import Dense\n",
    "from tensorflow.keras.layers import Input\n",
    "from tensorflow.keras.models import Model\n",
    "from tensorflow.keras.optimizers import Adam\n",
    "from tensorflow.keras.applications.mobilenet_v2 import preprocess_input\n",
    "from tensorflow.keras.preprocessing.image import img_to_array\n",
    "from tensorflow.keras.preprocessing.image import load_img\n",
    "from tensorflow.keras.utils import to_categorical\n",
    "from sklearn.preprocessing import LabelBinarizer\n",
    "from sklearn.model_selection import train_test_split\n",
    "from sklearn.metrics import classification_report\n",
    "from imutils import paths\n",
    "import matplotlib.pyplot as plt\n",
    "import numpy as np\n",
    "import argparse\n",
    "import os"
   ]
  },
  {
   "cell_type": "code",
   "execution_count": 7,
   "id": "a9993a12",
   "metadata": {},
   "outputs": [],
   "source": [
    "# initialize the initial learning rate, number of epochs to train for,\n",
    "# and batch size\n",
    "INIT_LR = 1e-4\n",
    "EPOCHS = 10\n",
    "BS = 32"
   ]
  },
  {
   "cell_type": "code",
   "execution_count": 8,
   "id": "5f35185e",
   "metadata": {},
   "outputs": [],
   "source": [
    "# r before string will prevent Python from interpreting escape characters.\n",
    "DIRECTORY = r\"D:\\HopeAI\\Week11-Deep Learning Module\\Facemask\\dataset\"\n",
    "CATEGORIES = [\"with_mask\", \"without_mask\"]"
   ]
  },
  {
   "cell_type": "code",
   "execution_count": 9,
   "id": "25f965dc",
   "metadata": {},
   "outputs": [
    {
     "name": "stdout",
     "output_type": "stream",
     "text": [
      "[INFO] loading images...\n"
     ]
    }
   ],
   "source": [
    "# grab the list of images in our dataset directory, then initialize\n",
    "# the list of data (i.e., images) and class images\n",
    "print(\"[INFO] loading images...\")\n",
    "\n",
    "data = []\n",
    "labels = []"
   ]
  },
  {
   "cell_type": "code",
   "execution_count": 10,
   "id": "4cb376a9-f0ef-428b-8aa8-a35636186db5",
   "metadata": {},
   "outputs": [],
   "source": [
    "#re run data=[]  cell before data.append cell "
   ]
  },
  {
   "cell_type": "code",
   "execution_count": 11,
   "id": "128984c1",
   "metadata": {},
   "outputs": [
    {
     "name": "stdout",
     "output_type": "stream",
     "text": [
      "Found 3848 images.\n",
      "Example image paths:\n",
      "['D:\\\\HopeAI\\\\Week11-Deep Learning Module\\\\Facemask\\\\dataset\\\\without_mask\\\\0.jpg', 'D:\\\\HopeAI\\\\Week11-Deep Learning Module\\\\Facemask\\\\dataset\\\\without_mask\\\\0_0_aidai_0014.jpg', 'D:\\\\HopeAI\\\\Week11-Deep Learning Module\\\\Facemask\\\\dataset\\\\without_mask\\\\0_0_aidai_0029.jpg', 'D:\\\\HopeAI\\\\Week11-Deep Learning Module\\\\Facemask\\\\dataset\\\\without_mask\\\\0_0_aidai_0043.jpg', 'D:\\\\HopeAI\\\\Week11-Deep Learning Module\\\\Facemask\\\\dataset\\\\without_mask\\\\0_0_aidai_0074.jpg']\n"
     ]
    }
   ],
   "source": [
    "from imutils import paths\n",
    "\n",
    "# Define the path to your dataset\n",
    "dataset_path = r\"D:\\HopeAI\\Week11-Deep Learning Module\\Facemask\\dataset\"\n",
    "\n",
    "# List all image paths in the dataset\n",
    "imagePaths = list(paths.list_images(dataset_path))\n",
    "\n",
    "# Print the number of images found and a few example paths\n",
    "print(f\"Found {len(imagePaths)} images.\")\n",
    "print(\"Example image paths:\")\n",
    "print(imagePaths[:5])  # Print first 5 image paths"
   ]
  },
  {
   "cell_type": "code",
   "execution_count": 12,
   "id": "0bed3e01",
   "metadata": {},
   "outputs": [
    {
     "name": "stdout",
     "output_type": "stream",
     "text": [
      "[]\n"
     ]
    }
   ],
   "source": [
    "#from sklearn.preprocessing import LabelBinarizer\n",
    "# Initialize LabelBinarizer to encode the labels (if necessary)\n",
    "# convert the data and labels to NumPy arrays\n",
    "data = np.array(data, dtype=\"float32\")\n",
    "labels = np.array(labels)\n",
    "print(labels)"
   ]
  },
  {
   "cell_type": "code",
   "execution_count": 13,
   "id": "077f441b-1080-424a-92fb-b96134e1912f",
   "metadata": {},
   "outputs": [],
   "source": [
    "import warnings\n",
    "# Ignoring all warnings\n",
    "warnings.filterwarnings(\"ignore\")"
   ]
  },
  {
   "cell_type": "code",
   "execution_count": 14,
   "id": "fb565199-aff2-45ae-a27d-fbac8999b600",
   "metadata": {},
   "outputs": [],
   "source": [
    "data = []\n",
    "labels = []"
   ]
  },
  {
   "cell_type": "code",
   "execution_count": 15,
   "id": "8798951a",
   "metadata": {},
   "outputs": [],
   "source": [
    "# Loop over the image paths\n",
    "for imagePath in imagePaths:\n",
    "    # Extract the class label from the filename\n",
    "    label = imagePath.split(os.path.sep)[-2]\n",
    "\n",
    "    # Load the input image (224x224) and preprocess it\n",
    "    image = load_img(imagePath, target_size=(224, 224))\n",
    "    image = img_to_array(image)\n",
    "    image = preprocess_input(image)\n",
    "\n",
    "    # Update the data and labels lists, respectively\n",
    "    data.append(image)\n",
    "    labels.append(label)\n",
    "\n",
    "# Convert the data and labels to NumPy arrays\n",
    "data = np.array(data, dtype=\"float32\")\n",
    "labels = np.array(labels)\n",
    "\n",
    "#print(data)\n",
    "#print(labels)"
   ]
  },
  {
   "cell_type": "code",
   "execution_count": 16,
   "id": "e90a0538",
   "metadata": {},
   "outputs": [],
   "source": [
    "# partition the data into training and testing splits using 75% of\n",
    "# the data for training and the remaining 20% for testing\n",
    "trainX, testX, trainY, testY = train_test_split(data, labels, test_size=0.20, stratify=labels, random_state=42)"
   ]
  },
  {
   "cell_type": "code",
   "execution_count": 17,
   "id": "b2575c3b",
   "metadata": {},
   "outputs": [],
   "source": [
    "# Construct the training image generator for data augmentation\n",
    "aug = ImageDataGenerator(\n",
    "    rotation_range=20,\n",
    "    zoom_range=0.15,\n",
    "    width_shift_range=0.2,\n",
    "    height_shift_range=0.2,\n",
    "    shear_range=0.15,\n",
    "    horizontal_flip=True,\n",
    "    fill_mode=\"nearest\")"
   ]
  },
  {
   "cell_type": "code",
   "execution_count": 18,
   "id": "a936e452",
   "metadata": {},
   "outputs": [],
   "source": [
    "# Construct the validation image generator\n",
    "val_aug = ImageDataGenerator()"
   ]
  },
  {
   "cell_type": "code",
   "execution_count": 19,
   "id": "114cd125",
   "metadata": {},
   "outputs": [],
   "source": [
    "# Create data generators\n",
    "train_generator = aug.flow(trainX, trainY, batch_size=BS)\n",
    "val_generator = val_aug.flow(testX, testY, batch_size=BS)"
   ]
  },
  {
   "cell_type": "code",
   "execution_count": 20,
   "id": "f011ee38",
   "metadata": {},
   "outputs": [
    {
     "data": {
      "text/plain": [
       "<keras.preprocessing.image.NumpyArrayIterator at 0x1da24613d30>"
      ]
     },
     "execution_count": 20,
     "metadata": {},
     "output_type": "execute_result"
    }
   ],
   "source": [
    "train_generator "
   ]
  },
  {
   "cell_type": "code",
   "execution_count": 21,
   "id": "43d15c29",
   "metadata": {},
   "outputs": [
    {
     "name": "stdout",
     "output_type": "stream",
     "text": [
      "WARNING:tensorflow:`input_shape` is undefined or non-square, or `rows` is not in [96, 128, 160, 192, 224]. Weights for input shape (224, 224) will be loaded as the default.\n"
     ]
    }
   ],
   "source": [
    "# load the MobileNetV2 network, ensuring the head FC layer sets are\n",
    "# left off\n",
    "baseModel = MobileNetV2(weights=\"imagenet\", include_top=False,\n",
    "\tinput_tensor=Input(shape=(224, 224, 3)))"
   ]
  },
  {
   "cell_type": "code",
   "execution_count": 22,
   "id": "b5a74412",
   "metadata": {},
   "outputs": [],
   "source": [
    "# construct the head of the model that will be placed on top of the\n",
    "# the base model\n",
    "headModel = baseModel.output\n",
    "headModel = AveragePooling2D(pool_size=(7, 7))(headModel)\n",
    "headModel = Flatten(name=\"flatten\")(headModel)\n",
    "headModel = Dense(128, activation=\"relu\")(headModel)\n",
    "headModel = Dropout(0.5)(headModel)\n",
    "headModel = Dense(2, activation=\"softmax\")(headModel)"
   ]
  },
  {
   "cell_type": "code",
   "execution_count": null,
   "id": "2701dd92-b145-4aea-95d4-14119c93a3e8",
   "metadata": {},
   "outputs": [],
   "source": [
    "#Dense Layer: This is a fully connected neural network layer. Every neuron in this layer connects to every neuron in the previous layer\n",
    "#2: Specifies the number of output neurons in the dense layer. In this case, the dense layer has 2 output neurons."
   ]
  },
  {
   "cell_type": "code",
   "execution_count": 23,
   "id": "37e230ff",
   "metadata": {},
   "outputs": [],
   "source": [
    "# place the head FC model on top of the base model (this will become\n",
    "# the actual model we will train)\n",
    "model = Model(inputs=baseModel.input, outputs=headModel)"
   ]
  },
  {
   "cell_type": "code",
   "execution_count": 24,
   "id": "08536aca",
   "metadata": {},
   "outputs": [],
   "source": [
    "# loop over all layers in the base model and freeze them so they will\n",
    "# *not* be updated during the first training process\n",
    "for layer in baseModel.layers:\n",
    "\tlayer.trainable = False"
   ]
  },
  {
   "cell_type": "code",
   "execution_count": 25,
   "id": "b47bfba4-bf6f-4295-a728-daf6e9fe9c41",
   "metadata": {},
   "outputs": [],
   "source": [
    "# Compile the model with binary_crossentropy loss \n",
    "INIT_LR = 0.001 # Replace with your initial learning rate \n",
    "BS = 16 # Batch size \n",
    "EPOCHS = 10 # Number of epochs \n",
    "opt = Adam(learning_rate=INIT_LR) \n",
    "model.compile(loss=\"binary_crossentropy\", optimizer=opt, metrics=[\"accuracy\"])"
   ]
  },
  {
   "cell_type": "code",
   "execution_count": null,
   "id": "be6a40ee-43c8-4bb5-bbb7-d37eb030623e",
   "metadata": {},
   "outputs": [],
   "source": [
    "#model.compile(optimizer=\"adam\", loss=\"sparse_categorical_crossentropy\", metrics=[\"accuracy\"])\n"
   ]
  },
  {
   "cell_type": "code",
   "execution_count": null,
   "id": "c404611f-69e5-4f60-916c-21525eabf9ef",
   "metadata": {},
   "outputs": [],
   "source": [
    "# Compile the model model.compile(optimizer='adam', loss='sparse_categorical_crossentropy')"
   ]
  },
  {
   "cell_type": "markdown",
   "id": "1add2260-93f1-4c23-b168-e9713d5677ca",
   "metadata": {},
   "source": [
    "print(\"[INFO] training head...\")"
   ]
  },
  {
   "cell_type": "markdown",
   "id": "ebc4e7b4-300e-41cb-8774-76dd8deeb1e4",
   "metadata": {},
   "source": [
    "len(trainX) "
   ]
  },
  {
   "cell_type": "markdown",
   "id": "449222b2-59ac-4b01-ba59-5755dd506acc",
   "metadata": {},
   "source": [
    "len(testX)"
   ]
  },
  {
   "cell_type": "markdown",
   "id": "10c19751-3524-4d53-8d10-00ccfe9bea5c",
   "metadata": {},
   "source": [
    "labels.shape"
   ]
  },
  {
   "cell_type": "code",
   "execution_count": null,
   "id": "c4dc47cb-60e4-4b08-8b83-ce6103c43354",
   "metadata": {},
   "outputs": [],
   "source": [
    "  #ValueError: `logits` and `labels` must have the same shape, received ((None, 2):predicting 2 values vs (None, 1)).--fit function\n",
    "#predicted output (logits) and Actual target lables(labels)"
   ]
  },
  {
   "cell_type": "markdown",
   "id": "01eab32e-bf16-48de-9c41-0c944f487971",
   "metadata": {},
   "source": [
    "image.shape"
   ]
  },
  {
   "cell_type": "markdown",
   "id": "96ac85cd-fa64-4dcf-8866-5627b878e4fd",
   "metadata": {},
   "source": [
    "labels.shape"
   ]
  },
  {
   "cell_type": "code",
   "execution_count": 26,
   "id": "07a0ebeb-3e21-4f1f-a4a2-ecc6e7d7a145",
   "metadata": {},
   "outputs": [
    {
     "data": {
      "text/plain": [
       "(3078, 224, 224, 3)"
      ]
     },
     "execution_count": 26,
     "metadata": {},
     "output_type": "execute_result"
    }
   ],
   "source": [
    "trainX.shape"
   ]
  },
  {
   "cell_type": "code",
   "execution_count": 27,
   "id": "bd40508f-fbc1-42b0-b073-84b757b37c22",
   "metadata": {},
   "outputs": [
    {
     "data": {
      "text/plain": [
       "(770, 224, 224, 3)"
      ]
     },
     "execution_count": 27,
     "metadata": {},
     "output_type": "execute_result"
    }
   ],
   "source": [
    "testX.shape"
   ]
  },
  {
   "cell_type": "code",
   "execution_count": null,
   "id": "f60c328b-62c1-4707-86b2-467a876de154",
   "metadata": {},
   "outputs": [],
   "source": [
    "#770: The number of test samples (images) in the test dataset.\n",
    "#224: The height of each image (224 pixels).\n",
    "#224: The width of each image (224 pixels).\n",
    "#3: The number of color channels, where 3 corresponds to RGB (Red, Green, Blue) color images."
   ]
  },
  {
   "cell_type": "code",
   "execution_count": null,
   "id": "83b38454-97b9-4a84-8329-9a4bdf19519e",
   "metadata": {},
   "outputs": [],
   "source": [
    "print(trainY.shape)  # Check the shape of your training labels\n",
    "print(testY.shape)   # Check the shape of your test labels\n"
   ]
  },
  {
   "cell_type": "code",
   "execution_count": null,
   "id": "e549d928-c4e5-4432-9c13-fad113b917f7",
   "metadata": {},
   "outputs": [],
   "source": [
    "#labels are not one-hot encoded, you should use SparseCategoricalCrossentropy as the loss function. \n",
    "#This loss function expects the logits to have shape (None, 2)"
   ]
  },
  {
   "cell_type": "code",
   "execution_count": 28,
   "id": "c4b27942-4c73-4fd2-98ca-92a68edaa9ae",
   "metadata": {},
   "outputs": [
    {
     "name": "stdout",
     "output_type": "stream",
     "text": [
      "(3078,)\n",
      "(770,)\n"
     ]
    }
   ],
   "source": [
    "print(trainY.shape)  # Check the shape of your training labels\n",
    "print(testY.shape)"
   ]
  },
  {
   "cell_type": "markdown",
   "id": "f97f83ff-dd1b-4c6f-af6b-266ba6380873",
   "metadata": {},
   "source": [
    "from tensorflow.keras.losses import SparseCategoricalCrossentropy\n",
    "\n",
    "model.compile(optimizer=\"adam\", \n",
    "              loss=SparseCategoricalCrossentropy(from_logits=False),  # Important\n",
    "              metrics=[\"accuracy\"])\n"
   ]
  },
  {
   "cell_type": "code",
   "execution_count": 29,
   "id": "7c64d781-cff3-4eeb-ae85-2285e6d2b445",
   "metadata": {},
   "outputs": [
    {
     "name": "stdout",
     "output_type": "stream",
     "text": [
      "{'with_mask', '.ipynb_checkpoints', 'without_mask'}\n",
      "{'with_mask', '.ipynb_checkpoints', 'without_mask'}\n"
     ]
    }
   ],
   "source": [
    "print(set(trainY))  # Check the unique values in trainY\n",
    "print(set(testY))   # Check the unique values in testY\n"
   ]
  },
  {
   "cell_type": "code",
   "execution_count": 30,
   "id": "4c6f063f-f9d3-4bd8-a9d9-efcb75f8bd48",
   "metadata": {},
   "outputs": [],
   "source": [
    "# Define the mapping\n",
    "label_mapping = {'with_mask': 0, 'without_mask': 1}\n",
    "\n",
    "# Filter and map labels\n",
    "trainY = [label_mapping[label] for label in trainY if label in label_mapping]\n",
    "testY = [label_mapping[label] for label in testY if label in label_mapping]\n"
   ]
  },
  {
   "cell_type": "code",
   "execution_count": 31,
   "id": "b2f7af54-bb0b-4c31-b226-2929547dc277",
   "metadata": {},
   "outputs": [
    {
     "name": "stdout",
     "output_type": "stream",
     "text": [
      "{0, 1}\n",
      "{0, 1}\n"
     ]
    }
   ],
   "source": [
    "print(set(trainY))  # Check the unique values in trainY\n",
    "print(set(testY))   "
   ]
  },
  {
   "cell_type": "code",
   "execution_count": 32,
   "id": "b7a95cb2-6378-4ab0-b181-fbe3c979ae17",
   "metadata": {},
   "outputs": [],
   "source": [
    "import os\n",
    "\n",
    "# List valid directories only (exclude .ipynb_checkpoints)\n",
    "labels = [d for d in os.listdir(dataset_path) if os.path.isdir(os.path.join(dataset_path, d))]\n",
    "labels = [label for label in labels if label != '.ipynb_checkpoints']\n"
   ]
  },
  {
   "cell_type": "markdown",
   "id": "ba2aea7f-fef4-43e1-9e1e-c717425f444b",
   "metadata": {},
   "source": [
    "model.compile(optimizer=\"adam\", \n",
    "              loss=\"sparse_categorical_crossentropy\", \n",
    "              metrics=[\"accuracy\"])"
   ]
  },
  {
   "cell_type": "markdown",
   "id": "8d97221a-af7f-455f-8470-5bbd2095412e",
   "metadata": {},
   "source": [
    "H = model.fit(\n",
    "    train_generator,\n",
    "    steps_per_epoch=len(train_generator),  # Number of batches in train_generator\n",
    "    validation_data=val_generator,\n",
    "    validation_steps=len(val_generator),  # Number of batches in val_generator\n",
    "    epochs=EPOCHS\n",
    ")\n"
   ]
  },
  {
   "cell_type": "code",
   "execution_count": 33,
   "id": "2f96b0ec-0e6d-4f57-85c9-573ddd42746e",
   "metadata": {},
   "outputs": [
    {
     "name": "stdout",
     "output_type": "stream",
     "text": [
      "Epoch 1/10\n"
     ]
    },
    {
     "ename": "ValueError",
     "evalue": "in user code:\n\n    File \"C:\\Users\\hp\\anaconda3\\envs\\vetens\\lib\\site-packages\\keras\\engine\\training.py\", line 1160, in train_function  *\n        return step_function(self, iterator)\n    File \"C:\\Users\\hp\\anaconda3\\envs\\vetens\\lib\\site-packages\\keras\\engine\\training.py\", line 1146, in step_function  **\n        outputs = model.distribute_strategy.run(run_step, args=(data,))\n    File \"C:\\Users\\hp\\anaconda3\\envs\\vetens\\lib\\site-packages\\keras\\engine\\training.py\", line 1135, in run_step  **\n        outputs = model.train_step(data)\n    File \"C:\\Users\\hp\\anaconda3\\envs\\vetens\\lib\\site-packages\\keras\\engine\\training.py\", line 994, in train_step\n        loss = self.compute_loss(x, y, y_pred, sample_weight)\n    File \"C:\\Users\\hp\\anaconda3\\envs\\vetens\\lib\\site-packages\\keras\\engine\\training.py\", line 1052, in compute_loss\n        return self.compiled_loss(\n    File \"C:\\Users\\hp\\anaconda3\\envs\\vetens\\lib\\site-packages\\keras\\engine\\compile_utils.py\", line 265, in __call__\n        loss_value = loss_obj(y_t, y_p, sample_weight=sw)\n    File \"C:\\Users\\hp\\anaconda3\\envs\\vetens\\lib\\site-packages\\keras\\losses.py\", line 152, in __call__\n        losses = call_fn(y_true, y_pred)\n    File \"C:\\Users\\hp\\anaconda3\\envs\\vetens\\lib\\site-packages\\keras\\losses.py\", line 272, in call  **\n        return ag_fn(y_true, y_pred, **self._fn_kwargs)\n    File \"C:\\Users\\hp\\anaconda3\\envs\\vetens\\lib\\site-packages\\keras\\losses.py\", line 2162, in binary_crossentropy\n        backend.binary_crossentropy(y_true, y_pred, from_logits=from_logits),\n    File \"C:\\Users\\hp\\anaconda3\\envs\\vetens\\lib\\site-packages\\keras\\backend.py\", line 5677, in binary_crossentropy\n        return tf.nn.sigmoid_cross_entropy_with_logits(\n\n    ValueError: `logits` and `labels` must have the same shape, received ((None, 2) vs (None, 1)).\n",
     "output_type": "error",
     "traceback": [
      "\u001b[1;31m---------------------------------------------------------------------------\u001b[0m",
      "\u001b[1;31mValueError\u001b[0m                                Traceback (most recent call last)",
      "Cell \u001b[1;32mIn[33], line 2\u001b[0m\n\u001b[0;32m      1\u001b[0m \u001b[38;5;66;03m# Train the head of the network\u001b[39;00m\n\u001b[1;32m----> 2\u001b[0m H \u001b[38;5;241m=\u001b[39m \u001b[43mmodel\u001b[49m\u001b[38;5;241;43m.\u001b[39;49m\u001b[43mfit\u001b[49m\u001b[43m(\u001b[49m\n\u001b[0;32m      3\u001b[0m \u001b[43m    \u001b[49m\u001b[43mtrain_generator\u001b[49m\u001b[43m,\u001b[49m\n\u001b[0;32m      4\u001b[0m \u001b[43m    \u001b[49m\u001b[43msteps_per_epoch\u001b[49m\u001b[38;5;241;43m=\u001b[39;49m\u001b[38;5;28;43mlen\u001b[39;49m\u001b[43m(\u001b[49m\u001b[43mtrainX\u001b[49m\u001b[43m)\u001b[49m\u001b[43m \u001b[49m\u001b[38;5;241;43m/\u001b[39;49m\u001b[38;5;241;43m/\u001b[39;49m\u001b[43m \u001b[49m\u001b[43mBS\u001b[49m\u001b[43m,\u001b[49m\n\u001b[0;32m      5\u001b[0m \u001b[43m    \u001b[49m\u001b[43mvalidation_data\u001b[49m\u001b[38;5;241;43m=\u001b[39;49m\u001b[43mval_generator\u001b[49m\u001b[43m,\u001b[49m\n\u001b[0;32m      6\u001b[0m \u001b[43m    \u001b[49m\u001b[43mvalidation_steps\u001b[49m\u001b[38;5;241;43m=\u001b[39;49m\u001b[38;5;28;43mlen\u001b[39;49m\u001b[43m(\u001b[49m\u001b[43mtestX\u001b[49m\u001b[43m)\u001b[49m\u001b[43m \u001b[49m\u001b[38;5;241;43m/\u001b[39;49m\u001b[38;5;241;43m/\u001b[39;49m\u001b[43m \u001b[49m\u001b[43mBS\u001b[49m\u001b[43m,\u001b[49m\u001b[43m  \u001b[49m\u001b[38;5;66;43;03m# Using testX here\u001b[39;49;00m\n\u001b[0;32m      7\u001b[0m \u001b[43m    \u001b[49m\u001b[43mepochs\u001b[49m\u001b[38;5;241;43m=\u001b[39;49m\u001b[43mEPOCHS\u001b[49m\n\u001b[0;32m      8\u001b[0m \u001b[43m)\u001b[49m\n",
      "File \u001b[1;32m~\\anaconda3\\envs\\vetens\\lib\\site-packages\\keras\\utils\\traceback_utils.py:70\u001b[0m, in \u001b[0;36mfilter_traceback.<locals>.error_handler\u001b[1;34m(*args, **kwargs)\u001b[0m\n\u001b[0;32m     67\u001b[0m     filtered_tb \u001b[38;5;241m=\u001b[39m _process_traceback_frames(e\u001b[38;5;241m.\u001b[39m__traceback__)\n\u001b[0;32m     68\u001b[0m     \u001b[38;5;66;03m# To get the full stack trace, call:\u001b[39;00m\n\u001b[0;32m     69\u001b[0m     \u001b[38;5;66;03m# `tf.debugging.disable_traceback_filtering()`\u001b[39;00m\n\u001b[1;32m---> 70\u001b[0m     \u001b[38;5;28;01mraise\u001b[39;00m e\u001b[38;5;241m.\u001b[39mwith_traceback(filtered_tb) \u001b[38;5;28;01mfrom\u001b[39;00m \u001b[38;5;28;01mNone\u001b[39;00m\n\u001b[0;32m     71\u001b[0m \u001b[38;5;28;01mfinally\u001b[39;00m:\n\u001b[0;32m     72\u001b[0m     \u001b[38;5;28;01mdel\u001b[39;00m filtered_tb\n",
      "File \u001b[1;32m~\\AppData\\Local\\Temp\\__autograph_generated_file9u7dbnc2.py:15\u001b[0m, in \u001b[0;36mouter_factory.<locals>.inner_factory.<locals>.tf__train_function\u001b[1;34m(iterator)\u001b[0m\n\u001b[0;32m     13\u001b[0m \u001b[38;5;28;01mtry\u001b[39;00m:\n\u001b[0;32m     14\u001b[0m     do_return \u001b[38;5;241m=\u001b[39m \u001b[38;5;28;01mTrue\u001b[39;00m\n\u001b[1;32m---> 15\u001b[0m     retval_ \u001b[38;5;241m=\u001b[39m ag__\u001b[38;5;241m.\u001b[39mconverted_call(ag__\u001b[38;5;241m.\u001b[39mld(step_function), (ag__\u001b[38;5;241m.\u001b[39mld(\u001b[38;5;28mself\u001b[39m), ag__\u001b[38;5;241m.\u001b[39mld(iterator)), \u001b[38;5;28;01mNone\u001b[39;00m, fscope)\n\u001b[0;32m     16\u001b[0m \u001b[38;5;28;01mexcept\u001b[39;00m:\n\u001b[0;32m     17\u001b[0m     do_return \u001b[38;5;241m=\u001b[39m \u001b[38;5;28;01mFalse\u001b[39;00m\n",
      "\u001b[1;31mValueError\u001b[0m: in user code:\n\n    File \"C:\\Users\\hp\\anaconda3\\envs\\vetens\\lib\\site-packages\\keras\\engine\\training.py\", line 1160, in train_function  *\n        return step_function(self, iterator)\n    File \"C:\\Users\\hp\\anaconda3\\envs\\vetens\\lib\\site-packages\\keras\\engine\\training.py\", line 1146, in step_function  **\n        outputs = model.distribute_strategy.run(run_step, args=(data,))\n    File \"C:\\Users\\hp\\anaconda3\\envs\\vetens\\lib\\site-packages\\keras\\engine\\training.py\", line 1135, in run_step  **\n        outputs = model.train_step(data)\n    File \"C:\\Users\\hp\\anaconda3\\envs\\vetens\\lib\\site-packages\\keras\\engine\\training.py\", line 994, in train_step\n        loss = self.compute_loss(x, y, y_pred, sample_weight)\n    File \"C:\\Users\\hp\\anaconda3\\envs\\vetens\\lib\\site-packages\\keras\\engine\\training.py\", line 1052, in compute_loss\n        return self.compiled_loss(\n    File \"C:\\Users\\hp\\anaconda3\\envs\\vetens\\lib\\site-packages\\keras\\engine\\compile_utils.py\", line 265, in __call__\n        loss_value = loss_obj(y_t, y_p, sample_weight=sw)\n    File \"C:\\Users\\hp\\anaconda3\\envs\\vetens\\lib\\site-packages\\keras\\losses.py\", line 152, in __call__\n        losses = call_fn(y_true, y_pred)\n    File \"C:\\Users\\hp\\anaconda3\\envs\\vetens\\lib\\site-packages\\keras\\losses.py\", line 272, in call  **\n        return ag_fn(y_true, y_pred, **self._fn_kwargs)\n    File \"C:\\Users\\hp\\anaconda3\\envs\\vetens\\lib\\site-packages\\keras\\losses.py\", line 2162, in binary_crossentropy\n        backend.binary_crossentropy(y_true, y_pred, from_logits=from_logits),\n    File \"C:\\Users\\hp\\anaconda3\\envs\\vetens\\lib\\site-packages\\keras\\backend.py\", line 5677, in binary_crossentropy\n        return tf.nn.sigmoid_cross_entropy_with_logits(\n\n    ValueError: `logits` and `labels` must have the same shape, received ((None, 2) vs (None, 1)).\n"
     ]
    }
   ],
   "source": [
    "# Train the head of the network\n",
    "H = model.fit(\n",
    "    train_generator,\n",
    "    steps_per_epoch=len(trainX) // BS,\n",
    "    validation_data=val_generator,\n",
    "    validation_steps=len(testX) // BS,  # Using testX here\n",
    "    epochs=EPOCHS\n",
    ")\n"
   ]
  },
  {
   "cell_type": "code",
   "execution_count": null,
   "id": "c00c43c9",
   "metadata": {},
   "outputs": [],
   "source": [
    "# make predictions on the testing set\n",
    "print(\"[INFO] evaluating network...\")\n",
    "predIdxs = model.predict(testX, batch_size=BS)"
   ]
  },
  {
   "cell_type": "code",
   "execution_count": null,
   "id": "29726db1",
   "metadata": {},
   "outputs": [],
   "source": [
    "# for each image in the testing set we need to find the index of the\n",
    "# label with corresponding largest predicted probability\n",
    "predIdxs = np.argmax(predIdxs, axis=1)"
   ]
  },
  {
   "cell_type": "code",
   "execution_count": null,
   "id": "f24d5edf",
   "metadata": {},
   "outputs": [],
   "source": [
    "# show a nicely formatted classification report\n",
    "print(classification_report(testY.argmax(axis=1), predIdxs,\n",
    "\ttarget_names=lb.classes_))"
   ]
  },
  {
   "cell_type": "code",
   "execution_count": null,
   "id": "bbacbd78",
   "metadata": {},
   "outputs": [],
   "source": [
    "# serialize the model to disk\n",
    "print(\"[INFO] saving mask detector model...\")\n",
    "model.save(\"Face_Mask_Detector.h5\")"
   ]
  },
  {
   "cell_type": "code",
   "execution_count": null,
   "id": "d15d78f1",
   "metadata": {},
   "outputs": [],
   "source": [
    "# plot the training loss and accuracy\n",
    "N = EPOCHS\n",
    "plt.style.use(\"ggplot\")\n",
    "plt.figure()\n",
    "plt.plot(np.arange(0, N), H.history[\"loss\"], label=\"train_loss\")\n",
    "plt.plot(np.arange(0, N), H.history[\"val_loss\"], label=\"val_loss\")\n",
    "plt.plot(np.arange(0, N), H.history[\"accuracy\"], label=\"train_acc\")\n",
    "plt.plot(np.arange(0, N), H.history[\"val_accuracy\"], label=\"val_acc\")\n",
    "plt.title(\"Training Loss and Accuracy\")\n",
    "plt.xlabel(\"Epoch #\")\n",
    "plt.ylabel(\"Loss/Accuracy\")\n",
    "plt.legend(loc=\"lower left\")\n",
    "plt.savefig(\"plot.png\")"
   ]
  },
  {
   "cell_type": "code",
   "execution_count": null,
   "id": "9fce0694",
   "metadata": {},
   "outputs": [],
   "source": []
  },
  {
   "cell_type": "code",
   "execution_count": null,
   "id": "e30da70e",
   "metadata": {},
   "outputs": [],
   "source": []
  },
  {
   "cell_type": "code",
   "execution_count": null,
   "id": "94ce53c8",
   "metadata": {},
   "outputs": [],
   "source": []
  }
 ],
 "metadata": {
  "kernelspec": {
   "display_name": "Python 3 (ipykernel)",
   "language": "python",
   "name": "python3"
  },
  "language_info": {
   "codemirror_mode": {
    "name": "ipython",
    "version": 3
   },
   "file_extension": ".py",
   "mimetype": "text/x-python",
   "name": "python",
   "nbconvert_exporter": "python",
   "pygments_lexer": "ipython3",
   "version": "3.10.16"
  }
 },
 "nbformat": 4,
 "nbformat_minor": 5
}
